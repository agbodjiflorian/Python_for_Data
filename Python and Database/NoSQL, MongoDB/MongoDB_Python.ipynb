{
 "cells": [
  {
   "cell_type": "code",
   "execution_count": 1,
   "id": "746fe724-989c-403f-a69d-0f5740330b32",
   "metadata": {},
   "outputs": [
    {
     "name": "stdout",
     "output_type": "stream",
     "text": [
      "Requirement already satisfied: pymongo in c:\\users\\florian agbodji\\anaconda3\\lib\\site-packages (4.6.1)\n",
      "Requirement already satisfied: dnspython<3.0.0,>=1.16.0 in c:\\users\\florian agbodji\\anaconda3\\lib\\site-packages (from pymongo) (2.6.1)\n"
     ]
    }
   ],
   "source": [
    "!pip install pymongo"
   ]
  },
  {
   "cell_type": "code",
   "execution_count": 2,
   "id": "f8fb4a92-5526-4771-a675-13c96fd6234a",
   "metadata": {},
   "outputs": [],
   "source": [
    "import pymongo"
   ]
  },
  {
   "cell_type": "markdown",
   "id": "da2139e9-56f1-44c7-8687-97507cce347e",
   "metadata": {},
   "source": [
    "### 1- Connection to MongoDB"
   ]
  },
  {
   "cell_type": "code",
   "execution_count": 3,
   "id": "93cd5e48-89e1-45b5-bcd6-9a89e2bf11f9",
   "metadata": {},
   "outputs": [],
   "source": [
    "from pymongo import MongoClient"
   ]
  },
  {
   "cell_type": "code",
   "execution_count": 4,
   "id": "089192f7-6ba4-4235-aa20-fc5b8e553737",
   "metadata": {},
   "outputs": [
    {
     "name": "stdout",
     "output_type": "stream",
     "text": [
      "['Example', 'admin', 'bookstore', 'config', 'local']\n"
     ]
    }
   ],
   "source": [
    "connection_string = \"mongodb://127.0.0.1:27017/users\"\n",
    "client = MongoClient(connection_string)\n",
    "\n",
    "print(client.list_database_names())"
   ]
  },
  {
   "cell_type": "markdown",
   "id": "7e4bce12-4f7f-4c13-bb10-55e664f5c43c",
   "metadata": {},
   "source": [
    "### 2- Database and Collection creation"
   ]
  },
  {
   "cell_type": "code",
   "execution_count": 5,
   "id": "aa33c319-8227-4a7f-ac5a-ef75fa8a2078",
   "metadata": {},
   "outputs": [
    {
     "name": "stdout",
     "output_type": "stream",
     "text": [
      "['Infos']\n"
     ]
    }
   ],
   "source": [
    "db_instance = client.get_database(\"Example\") # New database\n",
    "col = db_instance.get_collection(\"Infos\") # New collection\n",
    "\n",
    "print(db_instance.list_collection_names()) # avec mongodb, les databases et collections ne s'affichent que si elles contiennent des infos"
   ]
  },
  {
   "cell_type": "markdown",
   "id": "1562da48-7630-4a7d-8f6f-842472406714",
   "metadata": {},
   "source": [
    "### 3- Insert document into collection"
   ]
  },
  {
   "cell_type": "code",
   "execution_count": 6,
   "id": "fdccb2bf-2b4a-43c6-8eef-06eb76793c07",
   "metadata": {},
   "outputs": [
    {
     "name": "stdout",
     "output_type": "stream",
     "text": [
      "nouveau id : 65d4e48eef17b7d04587736a\n"
     ]
    }
   ],
   "source": [
    "document = {\n",
    "    \"title\": 'Florian',\n",
    "    \"author\": 'Brandon Sanderson',\n",
    "    \"pages\": 350,\n",
    "    \"genres\": [ 'fantasy', 'dystopian' ],\n",
    "    \"rating\": 9\n",
    "  }\n",
    "\n",
    "res = col.insert_one(document)\n",
    "last_id = res.inserted_id\n",
    "print(\"nouveau id : {}\".format(last_id))"
   ]
  },
  {
   "cell_type": "code",
   "execution_count": 7,
   "id": "61e68a06-3cc7-4919-aa02-9d6431c3c940",
   "metadata": {},
   "outputs": [
    {
     "name": "stdout",
     "output_type": "stream",
     "text": [
      "['Example', 'admin', 'bookstore', 'config', 'local']\n"
     ]
    }
   ],
   "source": [
    "print(client.list_database_names())"
   ]
  },
  {
   "cell_type": "code",
   "execution_count": 8,
   "id": "beb07565-5fae-4cb6-869a-16bda801727c",
   "metadata": {},
   "outputs": [
    {
     "name": "stdout",
     "output_type": "stream",
     "text": [
      "['Infos']\n"
     ]
    }
   ],
   "source": [
    "print(db_instance.list_collection_names())"
   ]
  },
  {
   "cell_type": "code",
   "execution_count": 9,
   "id": "0ed63336-cf32-4f5a-a57a-57b1ca5980d9",
   "metadata": {},
   "outputs": [
    {
     "name": "stdout",
     "output_type": "stream",
     "text": [
      "id : [ObjectId('65d4e48eef17b7d04587736b'), ObjectId('65d4e48eef17b7d04587736c')]\n"
     ]
    }
   ],
   "source": [
    "docs = [\n",
    "    {\n",
    "        \"title\": 'Florian',\n",
    "        \"author\": 'Brandon Sanderson',\n",
    "        \"pages\": 350,\n",
    "        \"genres\": [ 'fantasy', 'dystopian' ],\n",
    "        \"rating\": 9\n",
    "    },\n",
    "    {\n",
    "        \"title\": 'Blaise',\n",
    "        \"author\": 'Brandon Sanderson',\n",
    "        \"pages\": 21,\n",
    "        \"genres\": [ 'okay', 'dystopian' ],\n",
    "        \"rating\": 7\n",
    "    }    \n",
    "]\n",
    "\n",
    "re = col.insert_many(docs)\n",
    "\n",
    "new_ids = re.inserted_ids\n",
    "print(\"id : {}\".format(new_ids))"
   ]
  },
  {
   "cell_type": "markdown",
   "id": "7601c9dd-c64c-4cfb-a141-42798fa8b4d9",
   "metadata": {},
   "source": [
    "### 4- Find document"
   ]
  },
  {
   "cell_type": "code",
   "execution_count": 10,
   "id": "bd4c2e3a-dae3-4640-88c5-6a6a76149aa2",
   "metadata": {},
   "outputs": [
    {
     "name": "stdout",
     "output_type": "stream",
     "text": [
      "{'_id': ObjectId('65d4c663440ec6d82e1ff62e'), 'title': 'Florian', 'author': 'Brandon Sanderson', 'pages': 350, 'genres': ['fantasy', 'dystopian'], 'rating': 9}\n"
     ]
    }
   ],
   "source": [
    "d = col.find_one()\n",
    "print(d)"
   ]
  },
  {
   "cell_type": "code",
   "execution_count": 11,
   "id": "822a3cc2-cf8e-4e3a-a31a-29750b88e60d",
   "metadata": {},
   "outputs": [
    {
     "name": "stdout",
     "output_type": "stream",
     "text": [
      "<pymongo.cursor.Cursor object at 0x00000236C1944B90>\n"
     ]
    }
   ],
   "source": [
    "cur = col.find()\n",
    "print(cur)"
   ]
  },
  {
   "cell_type": "code",
   "execution_count": 12,
   "id": "a4679da5-c935-47e0-9143-35803cb3c687",
   "metadata": {},
   "outputs": [
    {
     "name": "stdout",
     "output_type": "stream",
     "text": [
      "{'_id': ObjectId('65d4c663440ec6d82e1ff62e'), 'title': 'Florian', 'author': 'Brandon Sanderson', 'pages': 350, 'genres': ['fantasy', 'dystopian'], 'rating': 9}\n",
      "{'_id': ObjectId('65d4c99f440ec6d82e1ff62f'), 'title': 'Florian', 'author': 'Brandon Sanderson', 'pages': 350, 'genres': ['fantasy', 'dystopian'], 'rating': 9}\n",
      "{'_id': ObjectId('65d4c99f440ec6d82e1ff630'), 'title': 'Blaise', 'author': 'Brandon Sanderson', 'pages': 21, 'genres': ['okay', 'dystopian'], 'rating': 7}\n",
      "{'_id': ObjectId('65d4c9c0440ec6d82e1ff631'), 'title': 'Florian', 'author': 'Brandon Sanderson', 'pages': 350, 'genres': ['fantasy', 'dystopian'], 'rating': 9}\n",
      "{'_id': ObjectId('65d4c9c0440ec6d82e1ff632'), 'title': 'Blaise', 'author': 'Brandon Sanderson', 'pages': 21, 'genres': ['okay', 'dystopian'], 'rating': 7}\n",
      "{'_id': ObjectId('65d4c9d0440ec6d82e1ff633'), 'title': 'Florian', 'author': 'Brandon Sanderson', 'pages': 350, 'genres': ['fantasy', 'dystopian'], 'rating': 9}\n",
      "{'_id': ObjectId('65d4c9d0440ec6d82e1ff634'), 'title': 'Blaise', 'author': 'Brandon Sanderson', 'pages': 21, 'genres': ['okay', 'dystopian'], 'rating': 7}\n",
      "{'_id': ObjectId('65d4ca16440ec6d82e1ff635'), 'title': 'Florian', 'author': 'Brandon Sanderson', 'pages': 350, 'genres': ['fantasy', 'dystopian'], 'rating': 9}\n",
      "{'_id': ObjectId('65d4ca16440ec6d82e1ff636'), 'title': 'Blaise', 'author': 'Brandon Sanderson', 'pages': 21, 'genres': ['okay', 'dystopian'], 'rating': 7}\n",
      "{'_id': ObjectId('65d4e48eef17b7d04587736a'), 'title': 'Florian', 'author': 'Brandon Sanderson', 'pages': 350, 'genres': ['fantasy', 'dystopian'], 'rating': 9}\n",
      "{'_id': ObjectId('65d4e48eef17b7d04587736b'), 'title': 'Florian', 'author': 'Brandon Sanderson', 'pages': 350, 'genres': ['fantasy', 'dystopian'], 'rating': 9}\n",
      "{'_id': ObjectId('65d4e48eef17b7d04587736c'), 'title': 'Blaise', 'author': 'Brandon Sanderson', 'pages': 21, 'genres': ['okay', 'dystopian'], 'rating': 7}\n"
     ]
    }
   ],
   "source": [
    "for doc in cur:\n",
    "    print(doc)"
   ]
  },
  {
   "cell_type": "markdown",
   "id": "0636710a-7347-463e-ba4c-07232389f462",
   "metadata": {},
   "source": [
    "### 5- Query document"
   ]
  },
  {
   "cell_type": "code",
   "execution_count": 13,
   "id": "a09787a3-fd44-4502-a839-01f3581cb149",
   "metadata": {},
   "outputs": [
    {
     "name": "stdout",
     "output_type": "stream",
     "text": [
      "{'_id': ObjectId('65d4c99f440ec6d82e1ff630'), 'title': 'Blaise', 'author': 'Brandon Sanderson', 'pages': 21, 'genres': ['okay', 'dystopian'], 'rating': 7}\n",
      "{'_id': ObjectId('65d4c9c0440ec6d82e1ff632'), 'title': 'Blaise', 'author': 'Brandon Sanderson', 'pages': 21, 'genres': ['okay', 'dystopian'], 'rating': 7}\n",
      "{'_id': ObjectId('65d4c9d0440ec6d82e1ff634'), 'title': 'Blaise', 'author': 'Brandon Sanderson', 'pages': 21, 'genres': ['okay', 'dystopian'], 'rating': 7}\n",
      "{'_id': ObjectId('65d4ca16440ec6d82e1ff636'), 'title': 'Blaise', 'author': 'Brandon Sanderson', 'pages': 21, 'genres': ['okay', 'dystopian'], 'rating': 7}\n",
      "{'_id': ObjectId('65d4e48eef17b7d04587736c'), 'title': 'Blaise', 'author': 'Brandon Sanderson', 'pages': 21, 'genres': ['okay', 'dystopian'], 'rating': 7}\n"
     ]
    }
   ],
   "source": [
    "r = col.find({\"title\":\"Blaise\"})\n",
    "\n",
    "for dd in r:\n",
    "    print(dd)"
   ]
  },
  {
   "cell_type": "markdown",
   "id": "e9c294a8-ff33-461f-afb3-e9f581f7226f",
   "metadata": {},
   "source": [
    "### 6- Sort document"
   ]
  },
  {
   "cell_type": "code",
   "execution_count": 14,
   "id": "1ff99c09-527e-44c5-aaea-55b627270e0c",
   "metadata": {},
   "outputs": [
    {
     "name": "stdout",
     "output_type": "stream",
     "text": [
      "{'_id': ObjectId('65d4c99f440ec6d82e1ff630'), 'title': 'Blaise', 'author': 'Brandon Sanderson', 'pages': 21, 'genres': ['okay', 'dystopian'], 'rating': 7}\n",
      "{'_id': ObjectId('65d4c9c0440ec6d82e1ff632'), 'title': 'Blaise', 'author': 'Brandon Sanderson', 'pages': 21, 'genres': ['okay', 'dystopian'], 'rating': 7}\n",
      "{'_id': ObjectId('65d4c9d0440ec6d82e1ff634'), 'title': 'Blaise', 'author': 'Brandon Sanderson', 'pages': 21, 'genres': ['okay', 'dystopian'], 'rating': 7}\n",
      "{'_id': ObjectId('65d4ca16440ec6d82e1ff636'), 'title': 'Blaise', 'author': 'Brandon Sanderson', 'pages': 21, 'genres': ['okay', 'dystopian'], 'rating': 7}\n",
      "{'_id': ObjectId('65d4e48eef17b7d04587736c'), 'title': 'Blaise', 'author': 'Brandon Sanderson', 'pages': 21, 'genres': ['okay', 'dystopian'], 'rating': 7}\n",
      "{'_id': ObjectId('65d4c663440ec6d82e1ff62e'), 'title': 'Florian', 'author': 'Brandon Sanderson', 'pages': 350, 'genres': ['fantasy', 'dystopian'], 'rating': 9}\n",
      "{'_id': ObjectId('65d4c99f440ec6d82e1ff62f'), 'title': 'Florian', 'author': 'Brandon Sanderson', 'pages': 350, 'genres': ['fantasy', 'dystopian'], 'rating': 9}\n",
      "{'_id': ObjectId('65d4c9c0440ec6d82e1ff631'), 'title': 'Florian', 'author': 'Brandon Sanderson', 'pages': 350, 'genres': ['fantasy', 'dystopian'], 'rating': 9}\n",
      "{'_id': ObjectId('65d4c9d0440ec6d82e1ff633'), 'title': 'Florian', 'author': 'Brandon Sanderson', 'pages': 350, 'genres': ['fantasy', 'dystopian'], 'rating': 9}\n",
      "{'_id': ObjectId('65d4ca16440ec6d82e1ff635'), 'title': 'Florian', 'author': 'Brandon Sanderson', 'pages': 350, 'genres': ['fantasy', 'dystopian'], 'rating': 9}\n",
      "{'_id': ObjectId('65d4e48eef17b7d04587736a'), 'title': 'Florian', 'author': 'Brandon Sanderson', 'pages': 350, 'genres': ['fantasy', 'dystopian'], 'rating': 9}\n",
      "{'_id': ObjectId('65d4e48eef17b7d04587736b'), 'title': 'Florian', 'author': 'Brandon Sanderson', 'pages': 350, 'genres': ['fantasy', 'dystopian'], 'rating': 9}\n"
     ]
    }
   ],
   "source": [
    "for doc in col.find().sort({\"rating\":1}):\n",
    "    print(doc)"
   ]
  },
  {
   "cell_type": "markdown",
   "id": "96ddfba2-a2eb-421a-bdfc-b0438b6af349",
   "metadata": {},
   "source": [
    "### 7- Delete document"
   ]
  },
  {
   "cell_type": "code",
   "execution_count": 18,
   "id": "9ce5e43e-63cf-4b5f-8b02-511cfb7f1462",
   "metadata": {},
   "outputs": [
    {
     "data": {
      "text/plain": [
       "12"
      ]
     },
     "execution_count": 18,
     "metadata": {},
     "output_type": "execute_result"
    }
   ],
   "source": [
    "col.count_documents({})"
   ]
  },
  {
   "cell_type": "code",
   "execution_count": 20,
   "id": "63a55ea0-5130-448b-9344-1ffd68696f32",
   "metadata": {},
   "outputs": [
    {
     "data": {
      "text/plain": [
       "DeleteResult({'n': 1, 'ok': 1.0}, acknowledged=True)"
      ]
     },
     "execution_count": 20,
     "metadata": {},
     "output_type": "execute_result"
    }
   ],
   "source": [
    "col.delete_one({\"title\":\"Florian\"})"
   ]
  },
  {
   "cell_type": "code",
   "execution_count": 21,
   "id": "292a83cc-ad03-4b54-80c4-e37c6f023ab2",
   "metadata": {},
   "outputs": [
    {
     "data": {
      "text/plain": [
       "11"
      ]
     },
     "execution_count": 21,
     "metadata": {},
     "output_type": "execute_result"
    }
   ],
   "source": [
    "col.count_documents({})"
   ]
  },
  {
   "cell_type": "code",
   "execution_count": 22,
   "id": "c8a13228-8fbd-422f-82e3-10f5238f5301",
   "metadata": {},
   "outputs": [
    {
     "data": {
      "text/plain": [
       "DeleteResult({'n': 6, 'ok': 1.0}, acknowledged=True)"
      ]
     },
     "execution_count": 22,
     "metadata": {},
     "output_type": "execute_result"
    }
   ],
   "source": [
    "col.delete_many({\"title\":\"Florian\"})"
   ]
  },
  {
   "cell_type": "code",
   "execution_count": 23,
   "id": "d28b33ff-7082-40be-9659-3a60a05576eb",
   "metadata": {},
   "outputs": [
    {
     "data": {
      "text/plain": [
       "5"
      ]
     },
     "execution_count": 23,
     "metadata": {},
     "output_type": "execute_result"
    }
   ],
   "source": [
    "col.count_documents({})"
   ]
  },
  {
   "cell_type": "markdown",
   "id": "399800fb-abdc-4b09-9e21-b5e42e40d79a",
   "metadata": {},
   "source": [
    "### 8- Update document"
   ]
  },
  {
   "cell_type": "code",
   "execution_count": 24,
   "id": "94856d6b-3653-4b19-b841-db1a0129b3ae",
   "metadata": {},
   "outputs": [
    {
     "name": "stdout",
     "output_type": "stream",
     "text": [
      "{'_id': ObjectId('65d4c99f440ec6d82e1ff630'), 'title': 'Blaise', 'author': 'Brandon Sanderson', 'pages': 21, 'genres': ['okay', 'dystopian'], 'rating': 7}\n",
      "{'_id': ObjectId('65d4c9c0440ec6d82e1ff632'), 'title': 'Blaise', 'author': 'Brandon Sanderson', 'pages': 21, 'genres': ['okay', 'dystopian'], 'rating': 7}\n",
      "{'_id': ObjectId('65d4c9d0440ec6d82e1ff634'), 'title': 'Blaise', 'author': 'Brandon Sanderson', 'pages': 21, 'genres': ['okay', 'dystopian'], 'rating': 7}\n",
      "{'_id': ObjectId('65d4ca16440ec6d82e1ff636'), 'title': 'Blaise', 'author': 'Brandon Sanderson', 'pages': 21, 'genres': ['okay', 'dystopian'], 'rating': 7}\n",
      "{'_id': ObjectId('65d4e48eef17b7d04587736c'), 'title': 'Blaise', 'author': 'Brandon Sanderson', 'pages': 21, 'genres': ['okay', 'dystopian'], 'rating': 7}\n"
     ]
    }
   ],
   "source": [
    "for doc in col.find():\n",
    "    print(doc)"
   ]
  },
  {
   "cell_type": "code",
   "execution_count": 26,
   "id": "7826cc7a-32ba-49c8-bf2d-252ea07d9747",
   "metadata": {},
   "outputs": [
    {
     "data": {
      "text/plain": [
       "UpdateResult({'n': 1, 'nModified': 1, 'ok': 1.0, 'updatedExisting': True}, acknowledged=True)"
      ]
     },
     "execution_count": 26,
     "metadata": {},
     "output_type": "execute_result"
    }
   ],
   "source": [
    "col.update_one({\"title\":\"Blaise\"}, {'$set':{\"rating\":100}})"
   ]
  },
  {
   "cell_type": "code",
   "execution_count": 27,
   "id": "d33961d2-8282-49e5-9791-c2d0035f3504",
   "metadata": {},
   "outputs": [
    {
     "name": "stdout",
     "output_type": "stream",
     "text": [
      "{'_id': ObjectId('65d4c99f440ec6d82e1ff630'), 'title': 'Blaise', 'author': 'Brandon Sanderson', 'pages': 21, 'genres': ['okay', 'dystopian'], 'rating': 100}\n",
      "{'_id': ObjectId('65d4c9c0440ec6d82e1ff632'), 'title': 'Blaise', 'author': 'Brandon Sanderson', 'pages': 21, 'genres': ['okay', 'dystopian'], 'rating': 7}\n",
      "{'_id': ObjectId('65d4c9d0440ec6d82e1ff634'), 'title': 'Blaise', 'author': 'Brandon Sanderson', 'pages': 21, 'genres': ['okay', 'dystopian'], 'rating': 7}\n",
      "{'_id': ObjectId('65d4ca16440ec6d82e1ff636'), 'title': 'Blaise', 'author': 'Brandon Sanderson', 'pages': 21, 'genres': ['okay', 'dystopian'], 'rating': 7}\n",
      "{'_id': ObjectId('65d4e48eef17b7d04587736c'), 'title': 'Blaise', 'author': 'Brandon Sanderson', 'pages': 21, 'genres': ['okay', 'dystopian'], 'rating': 7}\n"
     ]
    }
   ],
   "source": [
    "for doc in col.find():\n",
    "    print(doc)"
   ]
  },
  {
   "cell_type": "code",
   "execution_count": null,
   "id": "2d842297-7686-4eae-845f-a9ce46f721bc",
   "metadata": {},
   "outputs": [],
   "source": []
  },
  {
   "cell_type": "markdown",
   "id": "dc83352a-cf46-4f0d-85c8-213d4d0014e9",
   "metadata": {},
   "source": [
    "### 9- Aggregation ($avg,  $sum,  $group,  $project)"
   ]
  },
  {
   "cell_type": "code",
   "execution_count": 28,
   "id": "826a0991-d2ec-4d40-bda2-7b0a590cf2ec",
   "metadata": {},
   "outputs": [],
   "source": [
    "stud = db_instance.get_collection(\"studentscores\")"
   ]
  },
  {
   "cell_type": "code",
   "execution_count": 29,
   "id": "8efce01b-1c0e-4d8a-b9c3-fd3dd5907653",
   "metadata": {},
   "outputs": [
    {
     "data": {
      "text/plain": [
       "InsertManyResult([ObjectId('65d50d03ef17b7d04587736d'), ObjectId('65d50d03ef17b7d04587736e'), ObjectId('65d50d03ef17b7d04587736f'), ObjectId('65d50d03ef17b7d045877370'), ObjectId('65d50d03ef17b7d045877371'), ObjectId('65d50d03ef17b7d045877372')], acknowledged=True)"
      ]
     },
     "execution_count": 29,
     "metadata": {},
     "output_type": "execute_result"
    }
   ],
   "source": [
    "data = [\n",
    "    {\"user\":\"Krish\", \"subject\":\"Database\", \"score\":80},\n",
    "    {\"user\":\"Amit\", \"subject\":\"JavaScript\", \"score\":90},\n",
    "    {\"user\":\"Amit\", \"title\":\"Database\", \"score\":85},\n",
    "    {\"user\":\"Krish\", \"title\":\"JavaScript\", \"score\":75},\n",
    "    {\"user\":\"Amit\", \"title\":\"Data Science\", \"score\":60},\n",
    "    {\"user\":\"Krish\", \"title\":\"Data Science\", \"score\":95}\n",
    "]\n",
    "\n",
    "stud.insert_many(data)"
   ]
  },
  {
   "cell_type": "code",
   "execution_count": 30,
   "id": "394d080c-89bf-44a3-8ec7-2e49c811c893",
   "metadata": {},
   "outputs": [
    {
     "name": "stdout",
     "output_type": "stream",
     "text": [
      "{'_id': ObjectId('65d50d03ef17b7d04587736d'), 'user': 'Krish', 'subject': 'Database', 'score': 80}\n",
      "{'_id': ObjectId('65d50d03ef17b7d04587736e'), 'user': 'Amit', 'subject': 'JavaScript', 'score': 90}\n",
      "{'_id': ObjectId('65d50d03ef17b7d04587736f'), 'user': 'Amit', 'title': 'Database', 'score': 85}\n",
      "{'_id': ObjectId('65d50d03ef17b7d045877370'), 'user': 'Krish', 'title': 'JavaScript', 'score': 75}\n",
      "{'_id': ObjectId('65d50d03ef17b7d045877371'), 'user': 'Amit', 'title': 'Data Science', 'score': 60}\n",
      "{'_id': ObjectId('65d50d03ef17b7d045877372'), 'user': 'Krish', 'title': 'Data Science', 'score': 95}\n"
     ]
    }
   ],
   "source": [
    "for doc in stud.find():\n",
    "    print(doc)"
   ]
  },
  {
   "cell_type": "code",
   "execution_count": 31,
   "id": "b89f3503-aff2-4178-a5f2-e30e2fc468cd",
   "metadata": {},
   "outputs": [
    {
     "name": "stdout",
     "output_type": "stream",
     "text": [
      "{'_id': 'Amit', 'Total suject': 3}\n",
      "{'_id': 'Krish', 'Total suject': 3}\n"
     ]
    }
   ],
   "source": [
    "# Find the total subject for each user\n",
    "sub = stud.aggregate(\n",
    "    [{\n",
    "        \"$group\":\n",
    "        {\"_id\":\"$user\",\n",
    "        \"Total suject\": {\"$sum\" : 1}\n",
    "        }}\n",
    "    ])\n",
    "\n",
    "for i in sub:\n",
    "    print(i)"
   ]
  },
  {
   "cell_type": "code",
   "execution_count": 34,
   "id": "06eba6c5-c75e-4bee-8654-dd61ec81b54e",
   "metadata": {},
   "outputs": [
    {
     "name": "stdout",
     "output_type": "stream",
     "text": [
      "{'_id': 'Amit', 'Total score': 235}\n",
      "{'_id': 'Krish', 'Total score': 250}\n"
     ]
    }
   ],
   "source": [
    "# Find the total of score for each user\n",
    "\n",
    "tot = stud.aggregate(\n",
    "    [{\n",
    "        \"$group\":\n",
    "        {\n",
    "            \"_id\":\"$user\",\n",
    "            \"Total score\":{\"$sum\":\"$score\"}\n",
    "        }\n",
    "    }]\n",
    ")\n",
    "\n",
    "for f in tot:\n",
    "    print(f)"
   ]
  },
  {
   "cell_type": "code",
   "execution_count": 36,
   "id": "d0145c4b-cca9-4e3d-9cff-511f4c43ce16",
   "metadata": {},
   "outputs": [],
   "source": [
    "import datetime as datetime"
   ]
  },
  {
   "cell_type": "code",
   "execution_count": 37,
   "id": "183e31d5-bce6-429c-9546-a2768e5feda6",
   "metadata": {},
   "outputs": [],
   "source": [
    "### Create a new collection\n",
    "data=[{\"_id\":1, \"item\" : \"abc\", \"price\" : 10, \"quantity\" : 2, \"date\" : datetime.datetime.utcnow()},\n",
    "{ \"_id\" : 2, \"item\" : \"jkl\", \"price\" : 20, \"quantity\" : 1, \"date\" : datetime.datetime.utcnow() },\n",
    "{ \"_id\" : 3, \"item\" : \"xyz\", \"price\" : 5, \"quantity\" : 5, \"date\" : datetime.datetime.utcnow() },\n",
    "{ \"_id\" : 4, \"item\" : \"abc\", \"price\" : 10, \"quantity\" : 10, \"date\" : datetime.datetime.utcnow() },\n",
    "{ \"_id\" : 5, \"item\" : \"xyz\", \"price\" : 5, \"quantity\" : 10, \"date\" :datetime.datetime.utcnow() }]"
   ]
  },
  {
   "cell_type": "code",
   "execution_count": 38,
   "id": "4ba08fbb-da70-4dbd-b99c-8c722ce06751",
   "metadata": {},
   "outputs": [
    {
     "data": {
      "text/plain": [
       "InsertManyResult([1, 2, 3, 4, 5], acknowledged=True)"
      ]
     },
     "execution_count": 38,
     "metadata": {},
     "output_type": "execute_result"
    }
   ],
   "source": [
    "new = db_instance.get_collection(\"stores\")\n",
    "new.insert_many(data)"
   ]
  },
  {
   "cell_type": "code",
   "execution_count": 39,
   "id": "19f0e04c-1dd2-4596-9bd5-83c34fa48108",
   "metadata": {},
   "outputs": [
    {
     "data": {
      "text/plain": [
       "[{'_id': 1,\n",
       "  'item': 'abc',\n",
       "  'price': 10,\n",
       "  'quantity': 2,\n",
       "  'date': datetime.datetime(2024, 2, 20, 22, 26, 11, 492582)},\n",
       " {'_id': 2,\n",
       "  'item': 'jkl',\n",
       "  'price': 20,\n",
       "  'quantity': 1,\n",
       "  'date': datetime.datetime(2024, 2, 20, 22, 26, 11, 492582)},\n",
       " {'_id': 3,\n",
       "  'item': 'xyz',\n",
       "  'price': 5,\n",
       "  'quantity': 5,\n",
       "  'date': datetime.datetime(2024, 2, 20, 22, 26, 11, 492582)},\n",
       " {'_id': 4,\n",
       "  'item': 'abc',\n",
       "  'price': 10,\n",
       "  'quantity': 10,\n",
       "  'date': datetime.datetime(2024, 2, 20, 22, 26, 11, 492582)},\n",
       " {'_id': 5,\n",
       "  'item': 'xyz',\n",
       "  'price': 5,\n",
       "  'quantity': 10,\n",
       "  'date': datetime.datetime(2024, 2, 20, 22, 26, 11, 492582)}]"
      ]
     },
     "execution_count": 39,
     "metadata": {},
     "output_type": "execute_result"
    }
   ],
   "source": [
    "data"
   ]
  },
  {
   "cell_type": "code",
   "execution_count": 41,
   "id": "2d9d1da1-03a7-4b37-ae2e-229ec3b27155",
   "metadata": {},
   "outputs": [
    {
     "name": "stdout",
     "output_type": "stream",
     "text": [
      "{'_id': 'jkl', 'avg_quantity': 1.0, 'avg_price': 20.0}\n",
      "{'_id': 'abc', 'avg_quantity': 6.0, 'avg_price': 60.0}\n",
      "{'_id': 'xyz', 'avg_quantity': 7.5, 'avg_price': 37.5}\n"
     ]
    }
   ],
   "source": [
    "# Calculate the average quantity and the average price\n",
    "\n",
    "avg = new.aggregate([\n",
    "    {\n",
    "        \"$group\":\n",
    "        {\n",
    "            \"_id\":\"$item\",\n",
    "            \"avg_quantity\":{\"$avg\":\"$quantity\"},\n",
    "            \"avg_price\":{\"$avg\":{\"$multiply\":[\"$price\", \"$quantity\"]}}\n",
    "        }\n",
    "    }\n",
    "])\n",
    "\n",
    "for i in avg:\n",
    "    print(i)"
   ]
  },
  {
   "cell_type": "code",
   "execution_count": 42,
   "id": "e54e389c-15f7-4f89-a9b9-d8877043cc4d",
   "metadata": {},
   "outputs": [],
   "source": [
    "## Project\n",
    "data=[\n",
    "    {\n",
    "    \"_id\" : 1,\n",
    "    \"title\": \"abc123\",\n",
    "    \"isbn\": \"0001122223334\",\n",
    "    \"author\": { \"last\": \"zzz\", \"first\": \"aaa\" },\n",
    "    \"copies\": 5\n",
    "    },\n",
    "    {\n",
    "    \"_id\" : 2,\n",
    "    \"title\": \"Baked Goods\",\n",
    "    \"isbn\": \"9999999999999\",\n",
    "    \"author\": { \"last\": \"xyz\", \"first\": \"abc\", \"middle\": \"\" },\n",
    "    \"copies\": 2\n",
    "    },\n",
    "    {\n",
    "    \"_id\" : 3,\n",
    "    \"title\": \"Ice Cream Cakes\",\n",
    "    \"isbn\": \"8888888888888\",\n",
    "    \"author\": { \"last\": \"xyz\", \"first\": \"abc\", \"middle\": \"mmm\" },\n",
    "    \"copies\": 5\n",
    "    }\n",
    "]"
   ]
  },
  {
   "cell_type": "code",
   "execution_count": 44,
   "id": "d606d64f-329f-4c15-a85a-af77aced7d2a",
   "metadata": {},
   "outputs": [
    {
     "data": {
      "text/plain": [
       "InsertManyResult([1, 2, 3], acknowledged=True)"
      ]
     },
     "execution_count": 44,
     "metadata": {},
     "output_type": "execute_result"
    }
   ],
   "source": [
    "bk = db_instance.get_collection(\"book\")\n",
    "bk.insert_many(data)"
   ]
  },
  {
   "cell_type": "code",
   "execution_count": 47,
   "id": "7676e41d-e1e3-4702-a5b7-fbada161c20c",
   "metadata": {},
   "outputs": [
    {
     "name": "stdout",
     "output_type": "stream",
     "text": [
      "{'_id': 1, 'title': 'abc123'}\n",
      "{'_id': 2, 'title': 'Baked Goods'}\n",
      "{'_id': 3, 'title': 'Ice Cream Cakes'}\n"
     ]
    }
   ],
   "source": [
    "re = bk.aggregate([{\"$project\" : {\"title\":1}}])\n",
    "\n",
    "for i in re:\n",
    "    print(i)"
   ]
  },
  {
   "cell_type": "code",
   "execution_count": 48,
   "id": "de5ec812-6799-4fcf-a35f-7764b00dfb21",
   "metadata": {},
   "outputs": [
    {
     "name": "stdout",
     "output_type": "stream",
     "text": [
      "{'_id': 1, 'title': 'abc123'}\n",
      "{'_id': 2, 'title': 'Baked Goods'}\n",
      "{'_id': 3, 'title': 'Ice Cream Cakes'}\n"
     ]
    }
   ],
   "source": [
    "re = bk.find({}, {\"title\":1})\n",
    "\n",
    "for i in re:\n",
    "    print(i)"
   ]
  },
  {
   "cell_type": "code",
   "execution_count": null,
   "id": "f101bacf-3a97-497d-a578-addca0c7b5d5",
   "metadata": {},
   "outputs": [],
   "source": []
  },
  {
   "cell_type": "markdown",
   "id": "d219c5fd-6791-45e1-b46c-b6f4dbccf706",
   "metadata": {},
   "source": [
    "### 10- MongoDB to Pandas Dataframe"
   ]
  },
  {
   "cell_type": "code",
   "execution_count": 49,
   "id": "75f09a7d-ff7d-45c4-9b67-3d920162fbc0",
   "metadata": {},
   "outputs": [],
   "source": [
    "import pandas as pd"
   ]
  },
  {
   "cell_type": "code",
   "execution_count": 51,
   "id": "2373a0b0-6ad6-4dbf-addf-f652d77c611e",
   "metadata": {},
   "outputs": [
    {
     "data": {
      "text/html": [
       "<div>\n",
       "<style scoped>\n",
       "    .dataframe tbody tr th:only-of-type {\n",
       "        vertical-align: middle;\n",
       "    }\n",
       "\n",
       "    .dataframe tbody tr th {\n",
       "        vertical-align: top;\n",
       "    }\n",
       "\n",
       "    .dataframe thead th {\n",
       "        text-align: right;\n",
       "    }\n",
       "</style>\n",
       "<table border=\"1\" class=\"dataframe\">\n",
       "  <thead>\n",
       "    <tr style=\"text-align: right;\">\n",
       "      <th></th>\n",
       "      <th>_id</th>\n",
       "      <th>user</th>\n",
       "      <th>subject</th>\n",
       "      <th>score</th>\n",
       "      <th>title</th>\n",
       "    </tr>\n",
       "  </thead>\n",
       "  <tbody>\n",
       "    <tr>\n",
       "      <th>0</th>\n",
       "      <td>65d50d03ef17b7d04587736d</td>\n",
       "      <td>Krish</td>\n",
       "      <td>Database</td>\n",
       "      <td>80</td>\n",
       "      <td>NaN</td>\n",
       "    </tr>\n",
       "    <tr>\n",
       "      <th>1</th>\n",
       "      <td>65d50d03ef17b7d04587736e</td>\n",
       "      <td>Amit</td>\n",
       "      <td>JavaScript</td>\n",
       "      <td>90</td>\n",
       "      <td>NaN</td>\n",
       "    </tr>\n",
       "    <tr>\n",
       "      <th>2</th>\n",
       "      <td>65d50d03ef17b7d04587736f</td>\n",
       "      <td>Amit</td>\n",
       "      <td>NaN</td>\n",
       "      <td>85</td>\n",
       "      <td>Database</td>\n",
       "    </tr>\n",
       "    <tr>\n",
       "      <th>3</th>\n",
       "      <td>65d50d03ef17b7d045877370</td>\n",
       "      <td>Krish</td>\n",
       "      <td>NaN</td>\n",
       "      <td>75</td>\n",
       "      <td>JavaScript</td>\n",
       "    </tr>\n",
       "    <tr>\n",
       "      <th>4</th>\n",
       "      <td>65d50d03ef17b7d045877371</td>\n",
       "      <td>Amit</td>\n",
       "      <td>NaN</td>\n",
       "      <td>60</td>\n",
       "      <td>Data Science</td>\n",
       "    </tr>\n",
       "    <tr>\n",
       "      <th>5</th>\n",
       "      <td>65d50d03ef17b7d045877372</td>\n",
       "      <td>Krish</td>\n",
       "      <td>NaN</td>\n",
       "      <td>95</td>\n",
       "      <td>Data Science</td>\n",
       "    </tr>\n",
       "  </tbody>\n",
       "</table>\n",
       "</div>"
      ],
      "text/plain": [
       "                        _id   user     subject  score         title\n",
       "0  65d50d03ef17b7d04587736d  Krish    Database     80           NaN\n",
       "1  65d50d03ef17b7d04587736e   Amit  JavaScript     90           NaN\n",
       "2  65d50d03ef17b7d04587736f   Amit         NaN     85      Database\n",
       "3  65d50d03ef17b7d045877370  Krish         NaN     75    JavaScript\n",
       "4  65d50d03ef17b7d045877371   Amit         NaN     60  Data Science\n",
       "5  65d50d03ef17b7d045877372  Krish         NaN     95  Data Science"
      ]
     },
     "execution_count": 51,
     "metadata": {},
     "output_type": "execute_result"
    }
   ],
   "source": [
    "df = pd.DataFrame(list(stud.find()))\n",
    "df"
   ]
  },
  {
   "cell_type": "code",
   "execution_count": 52,
   "id": "cf3022de-2cad-4257-b610-e74ed9cedab2",
   "metadata": {},
   "outputs": [
    {
     "data": {
      "text/html": [
       "<div>\n",
       "<style scoped>\n",
       "    .dataframe tbody tr th:only-of-type {\n",
       "        vertical-align: middle;\n",
       "    }\n",
       "\n",
       "    .dataframe tbody tr th {\n",
       "        vertical-align: top;\n",
       "    }\n",
       "\n",
       "    .dataframe thead th {\n",
       "        text-align: right;\n",
       "    }\n",
       "</style>\n",
       "<table border=\"1\" class=\"dataframe\">\n",
       "  <thead>\n",
       "    <tr style=\"text-align: right;\">\n",
       "      <th></th>\n",
       "      <th>_id</th>\n",
       "      <th>title</th>\n",
       "      <th>isbn</th>\n",
       "      <th>author</th>\n",
       "      <th>copies</th>\n",
       "    </tr>\n",
       "  </thead>\n",
       "  <tbody>\n",
       "    <tr>\n",
       "      <th>0</th>\n",
       "      <td>1</td>\n",
       "      <td>abc123</td>\n",
       "      <td>0001122223334</td>\n",
       "      <td>{'last': 'zzz', 'first': 'aaa'}</td>\n",
       "      <td>5</td>\n",
       "    </tr>\n",
       "    <tr>\n",
       "      <th>1</th>\n",
       "      <td>2</td>\n",
       "      <td>Baked Goods</td>\n",
       "      <td>9999999999999</td>\n",
       "      <td>{'last': 'xyz', 'first': 'abc', 'middle': ''}</td>\n",
       "      <td>2</td>\n",
       "    </tr>\n",
       "    <tr>\n",
       "      <th>2</th>\n",
       "      <td>3</td>\n",
       "      <td>Ice Cream Cakes</td>\n",
       "      <td>8888888888888</td>\n",
       "      <td>{'last': 'xyz', 'first': 'abc', 'middle': 'mmm'}</td>\n",
       "      <td>5</td>\n",
       "    </tr>\n",
       "  </tbody>\n",
       "</table>\n",
       "</div>"
      ],
      "text/plain": [
       "   _id            title           isbn  \\\n",
       "0    1           abc123  0001122223334   \n",
       "1    2      Baked Goods  9999999999999   \n",
       "2    3  Ice Cream Cakes  8888888888888   \n",
       "\n",
       "                                             author  copies  \n",
       "0                   {'last': 'zzz', 'first': 'aaa'}       5  \n",
       "1     {'last': 'xyz', 'first': 'abc', 'middle': ''}       2  \n",
       "2  {'last': 'xyz', 'first': 'abc', 'middle': 'mmm'}       5  "
      ]
     },
     "execution_count": 52,
     "metadata": {},
     "output_type": "execute_result"
    }
   ],
   "source": [
    "dt = pd.DataFrame(list(bk.find()))\n",
    "dt"
   ]
  },
  {
   "cell_type": "code",
   "execution_count": 55,
   "id": "d21c26b7-7b97-43bd-8750-f84a447c0c13",
   "metadata": {},
   "outputs": [],
   "source": []
  },
  {
   "cell_type": "code",
   "execution_count": 57,
   "id": "54165d2c-02d2-473b-ad23-3668bd96660c",
   "metadata": {},
   "outputs": [],
   "source": [
    "from pandas import json_normalize"
   ]
  },
  {
   "cell_type": "code",
   "execution_count": 58,
   "id": "5e33cea1-71f1-4895-beed-00e6713ead74",
   "metadata": {},
   "outputs": [
    {
     "data": {
      "text/html": [
       "<div>\n",
       "<style scoped>\n",
       "    .dataframe tbody tr th:only-of-type {\n",
       "        vertical-align: middle;\n",
       "    }\n",
       "\n",
       "    .dataframe tbody tr th {\n",
       "        vertical-align: top;\n",
       "    }\n",
       "\n",
       "    .dataframe thead th {\n",
       "        text-align: right;\n",
       "    }\n",
       "</style>\n",
       "<table border=\"1\" class=\"dataframe\">\n",
       "  <thead>\n",
       "    <tr style=\"text-align: right;\">\n",
       "      <th></th>\n",
       "      <th>_id</th>\n",
       "      <th>title</th>\n",
       "      <th>isbn</th>\n",
       "      <th>copies</th>\n",
       "      <th>author.last</th>\n",
       "      <th>author.first</th>\n",
       "      <th>author.middle</th>\n",
       "    </tr>\n",
       "  </thead>\n",
       "  <tbody>\n",
       "    <tr>\n",
       "      <th>0</th>\n",
       "      <td>1</td>\n",
       "      <td>abc123</td>\n",
       "      <td>0001122223334</td>\n",
       "      <td>5</td>\n",
       "      <td>zzz</td>\n",
       "      <td>aaa</td>\n",
       "      <td>NaN</td>\n",
       "    </tr>\n",
       "    <tr>\n",
       "      <th>1</th>\n",
       "      <td>2</td>\n",
       "      <td>Baked Goods</td>\n",
       "      <td>9999999999999</td>\n",
       "      <td>2</td>\n",
       "      <td>xyz</td>\n",
       "      <td>abc</td>\n",
       "      <td></td>\n",
       "    </tr>\n",
       "    <tr>\n",
       "      <th>2</th>\n",
       "      <td>3</td>\n",
       "      <td>Ice Cream Cakes</td>\n",
       "      <td>8888888888888</td>\n",
       "      <td>5</td>\n",
       "      <td>xyz</td>\n",
       "      <td>abc</td>\n",
       "      <td>mmm</td>\n",
       "    </tr>\n",
       "  </tbody>\n",
       "</table>\n",
       "</div>"
      ],
      "text/plain": [
       "   _id            title           isbn  copies author.last author.first  \\\n",
       "0    1           abc123  0001122223334       5         zzz          aaa   \n",
       "1    2      Baked Goods  9999999999999       2         xyz          abc   \n",
       "2    3  Ice Cream Cakes  8888888888888       5         xyz          abc   \n",
       "\n",
       "  author.middle  \n",
       "0           NaN  \n",
       "1                \n",
       "2           mmm  "
      ]
     },
     "execution_count": 58,
     "metadata": {},
     "output_type": "execute_result"
    }
   ],
   "source": [
    "\n",
    "\n",
    "#datapoints = list(db.collection_name.find({})\n",
    "\n",
    "df = json_normalize(list(bk.find()))\n",
    "\n",
    "df.head()"
   ]
  },
  {
   "cell_type": "code",
   "execution_count": null,
   "id": "8bfd57a8-6c59-4db5-91cd-e1bd673a41c6",
   "metadata": {},
   "outputs": [],
   "source": []
  },
  {
   "cell_type": "code",
   "execution_count": null,
   "id": "981a08c5-3b72-4576-b162-4bd2a37c85eb",
   "metadata": {},
   "outputs": [],
   "source": []
  },
  {
   "cell_type": "code",
   "execution_count": null,
   "id": "364f885f-03b0-481b-8734-5cf612ffe531",
   "metadata": {},
   "outputs": [],
   "source": []
  },
  {
   "cell_type": "code",
   "execution_count": null,
   "id": "832ea722-b507-4bf5-ae3e-d5da7f5c8db2",
   "metadata": {},
   "outputs": [],
   "source": []
  },
  {
   "cell_type": "code",
   "execution_count": null,
   "id": "c1f792fb-3bda-41c6-9521-a0e4a4251bfc",
   "metadata": {},
   "outputs": [],
   "source": []
  }
 ],
 "metadata": {
  "kernelspec": {
   "display_name": "Python 3 (ipykernel)",
   "language": "python",
   "name": "python3"
  },
  "language_info": {
   "codemirror_mode": {
    "name": "ipython",
    "version": 3
   },
   "file_extension": ".py",
   "mimetype": "text/x-python",
   "name": "python",
   "nbconvert_exporter": "python",
   "pygments_lexer": "ipython3",
   "version": "3.11.5"
  }
 },
 "nbformat": 4,
 "nbformat_minor": 5
}
