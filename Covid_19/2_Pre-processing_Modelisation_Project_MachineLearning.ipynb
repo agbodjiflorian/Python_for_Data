{
 "cells": [
  {
   "cell_type": "markdown",
   "id": "918868ae",
   "metadata": {},
   "source": [
    "# Pre-processing"
   ]
  },
  {
   "cell_type": "raw",
   "id": "04c46725",
   "metadata": {},
   "source": [
    "Objectifs : \n",
    "\n",
    "1- Mettre les données dans un format propice au ML\n",
    "    - Train / Test\n",
    "    - Encodage\n",
    "    - Nettoyage des NaN\n",
    "    \n",
    "2- Améliorer la performance du modèle\n",
    "    - Feature Selection\n",
    "    - Feature Engineering\n",
    "    - Feature Scaling\n",
    "    - Suppression des Outliers"
   ]
  },
  {
   "cell_type": "code",
   "execution_count": 1,
   "id": "6c8bfa7a",
   "metadata": {},
   "outputs": [],
   "source": [
    "import numpy as np\n",
    "import pandas as pd\n",
    "import matplotlib.pyplot as plt\n",
    "import seaborn as sns\n",
    "\n",
    "# pour éviter les warnings\n",
    "from warnings import filterwarnings\n",
    "filterwarnings('ignore')"
   ]
  },
  {
   "cell_type": "code",
   "execution_count": 2,
   "id": "e0f4ee94",
   "metadata": {},
   "outputs": [
    {
     "data": {
      "text/html": [
       "<div>\n",
       "<style scoped>\n",
       "    .dataframe tbody tr th:only-of-type {\n",
       "        vertical-align: middle;\n",
       "    }\n",
       "\n",
       "    .dataframe tbody tr th {\n",
       "        vertical-align: top;\n",
       "    }\n",
       "\n",
       "    .dataframe thead th {\n",
       "        text-align: right;\n",
       "    }\n",
       "</style>\n",
       "<table border=\"1\" class=\"dataframe\">\n",
       "  <thead>\n",
       "    <tr style=\"text-align: right;\">\n",
       "      <th></th>\n",
       "      <th>Patient ID</th>\n",
       "      <th>Patient age quantile</th>\n",
       "      <th>SARS-Cov-2 exam result</th>\n",
       "      <th>Patient addmited to regular ward (1=yes, 0=no)</th>\n",
       "      <th>Patient addmited to semi-intensive unit (1=yes, 0=no)</th>\n",
       "      <th>Patient addmited to intensive care unit (1=yes, 0=no)</th>\n",
       "      <th>Hematocrit</th>\n",
       "      <th>Hemoglobin</th>\n",
       "      <th>Platelets</th>\n",
       "      <th>Mean platelet volume</th>\n",
       "      <th>...</th>\n",
       "      <th>Hb saturation (arterial blood gases)</th>\n",
       "      <th>pCO2 (arterial blood gas analysis)</th>\n",
       "      <th>Base excess (arterial blood gas analysis)</th>\n",
       "      <th>pH (arterial blood gas analysis)</th>\n",
       "      <th>Total CO2 (arterial blood gas analysis)</th>\n",
       "      <th>HCO3 (arterial blood gas analysis)</th>\n",
       "      <th>pO2 (arterial blood gas analysis)</th>\n",
       "      <th>Arteiral Fio2</th>\n",
       "      <th>Phosphor</th>\n",
       "      <th>ctO2 (arterial blood gas analysis)</th>\n",
       "    </tr>\n",
       "  </thead>\n",
       "  <tbody>\n",
       "    <tr>\n",
       "      <th>0</th>\n",
       "      <td>44477f75e8169d2</td>\n",
       "      <td>13</td>\n",
       "      <td>negative</td>\n",
       "      <td>0</td>\n",
       "      <td>0</td>\n",
       "      <td>0</td>\n",
       "      <td>NaN</td>\n",
       "      <td>NaN</td>\n",
       "      <td>NaN</td>\n",
       "      <td>NaN</td>\n",
       "      <td>...</td>\n",
       "      <td>NaN</td>\n",
       "      <td>NaN</td>\n",
       "      <td>NaN</td>\n",
       "      <td>NaN</td>\n",
       "      <td>NaN</td>\n",
       "      <td>NaN</td>\n",
       "      <td>NaN</td>\n",
       "      <td>NaN</td>\n",
       "      <td>NaN</td>\n",
       "      <td>NaN</td>\n",
       "    </tr>\n",
       "    <tr>\n",
       "      <th>1</th>\n",
       "      <td>126e9dd13932f68</td>\n",
       "      <td>17</td>\n",
       "      <td>negative</td>\n",
       "      <td>0</td>\n",
       "      <td>0</td>\n",
       "      <td>0</td>\n",
       "      <td>0.236515</td>\n",
       "      <td>-0.02234</td>\n",
       "      <td>-0.517413</td>\n",
       "      <td>0.010677</td>\n",
       "      <td>...</td>\n",
       "      <td>NaN</td>\n",
       "      <td>NaN</td>\n",
       "      <td>NaN</td>\n",
       "      <td>NaN</td>\n",
       "      <td>NaN</td>\n",
       "      <td>NaN</td>\n",
       "      <td>NaN</td>\n",
       "      <td>NaN</td>\n",
       "      <td>NaN</td>\n",
       "      <td>NaN</td>\n",
       "    </tr>\n",
       "    <tr>\n",
       "      <th>2</th>\n",
       "      <td>a46b4402a0e5696</td>\n",
       "      <td>8</td>\n",
       "      <td>negative</td>\n",
       "      <td>0</td>\n",
       "      <td>0</td>\n",
       "      <td>0</td>\n",
       "      <td>NaN</td>\n",
       "      <td>NaN</td>\n",
       "      <td>NaN</td>\n",
       "      <td>NaN</td>\n",
       "      <td>...</td>\n",
       "      <td>NaN</td>\n",
       "      <td>NaN</td>\n",
       "      <td>NaN</td>\n",
       "      <td>NaN</td>\n",
       "      <td>NaN</td>\n",
       "      <td>NaN</td>\n",
       "      <td>NaN</td>\n",
       "      <td>NaN</td>\n",
       "      <td>NaN</td>\n",
       "      <td>NaN</td>\n",
       "    </tr>\n",
       "    <tr>\n",
       "      <th>3</th>\n",
       "      <td>f7d619a94f97c45</td>\n",
       "      <td>5</td>\n",
       "      <td>negative</td>\n",
       "      <td>0</td>\n",
       "      <td>0</td>\n",
       "      <td>0</td>\n",
       "      <td>NaN</td>\n",
       "      <td>NaN</td>\n",
       "      <td>NaN</td>\n",
       "      <td>NaN</td>\n",
       "      <td>...</td>\n",
       "      <td>NaN</td>\n",
       "      <td>NaN</td>\n",
       "      <td>NaN</td>\n",
       "      <td>NaN</td>\n",
       "      <td>NaN</td>\n",
       "      <td>NaN</td>\n",
       "      <td>NaN</td>\n",
       "      <td>NaN</td>\n",
       "      <td>NaN</td>\n",
       "      <td>NaN</td>\n",
       "    </tr>\n",
       "    <tr>\n",
       "      <th>4</th>\n",
       "      <td>d9e41465789c2b5</td>\n",
       "      <td>15</td>\n",
       "      <td>negative</td>\n",
       "      <td>0</td>\n",
       "      <td>0</td>\n",
       "      <td>0</td>\n",
       "      <td>NaN</td>\n",
       "      <td>NaN</td>\n",
       "      <td>NaN</td>\n",
       "      <td>NaN</td>\n",
       "      <td>...</td>\n",
       "      <td>NaN</td>\n",
       "      <td>NaN</td>\n",
       "      <td>NaN</td>\n",
       "      <td>NaN</td>\n",
       "      <td>NaN</td>\n",
       "      <td>NaN</td>\n",
       "      <td>NaN</td>\n",
       "      <td>NaN</td>\n",
       "      <td>NaN</td>\n",
       "      <td>NaN</td>\n",
       "    </tr>\n",
       "  </tbody>\n",
       "</table>\n",
       "<p>5 rows × 111 columns</p>\n",
       "</div>"
      ],
      "text/plain": [
       "        Patient ID  Patient age quantile SARS-Cov-2 exam result  \\\n",
       "0  44477f75e8169d2                    13               negative   \n",
       "1  126e9dd13932f68                    17               negative   \n",
       "2  a46b4402a0e5696                     8               negative   \n",
       "3  f7d619a94f97c45                     5               negative   \n",
       "4  d9e41465789c2b5                    15               negative   \n",
       "\n",
       "   Patient addmited to regular ward (1=yes, 0=no)  \\\n",
       "0                                               0   \n",
       "1                                               0   \n",
       "2                                               0   \n",
       "3                                               0   \n",
       "4                                               0   \n",
       "\n",
       "   Patient addmited to semi-intensive unit (1=yes, 0=no)  \\\n",
       "0                                                  0       \n",
       "1                                                  0       \n",
       "2                                                  0       \n",
       "3                                                  0       \n",
       "4                                                  0       \n",
       "\n",
       "   Patient addmited to intensive care unit (1=yes, 0=no)  Hematocrit  \\\n",
       "0                                                  0             NaN   \n",
       "1                                                  0        0.236515   \n",
       "2                                                  0             NaN   \n",
       "3                                                  0             NaN   \n",
       "4                                                  0             NaN   \n",
       "\n",
       "   Hemoglobin  Platelets  Mean platelet volume   ...  \\\n",
       "0         NaN        NaN                    NaN  ...   \n",
       "1    -0.02234  -0.517413               0.010677  ...   \n",
       "2         NaN        NaN                    NaN  ...   \n",
       "3         NaN        NaN                    NaN  ...   \n",
       "4         NaN        NaN                    NaN  ...   \n",
       "\n",
       "   Hb saturation (arterial blood gases)  pCO2 (arterial blood gas analysis)  \\\n",
       "0                                   NaN                                 NaN   \n",
       "1                                   NaN                                 NaN   \n",
       "2                                   NaN                                 NaN   \n",
       "3                                   NaN                                 NaN   \n",
       "4                                   NaN                                 NaN   \n",
       "\n",
       "   Base excess (arterial blood gas analysis)  \\\n",
       "0                                        NaN   \n",
       "1                                        NaN   \n",
       "2                                        NaN   \n",
       "3                                        NaN   \n",
       "4                                        NaN   \n",
       "\n",
       "   pH (arterial blood gas analysis)  Total CO2 (arterial blood gas analysis)  \\\n",
       "0                               NaN                                      NaN   \n",
       "1                               NaN                                      NaN   \n",
       "2                               NaN                                      NaN   \n",
       "3                               NaN                                      NaN   \n",
       "4                               NaN                                      NaN   \n",
       "\n",
       "   HCO3 (arterial blood gas analysis)  pO2 (arterial blood gas analysis)  \\\n",
       "0                                 NaN                                NaN   \n",
       "1                                 NaN                                NaN   \n",
       "2                                 NaN                                NaN   \n",
       "3                                 NaN                                NaN   \n",
       "4                                 NaN                                NaN   \n",
       "\n",
       "   Arteiral Fio2  Phosphor  ctO2 (arterial blood gas analysis)  \n",
       "0            NaN       NaN                                 NaN  \n",
       "1            NaN       NaN                                 NaN  \n",
       "2            NaN       NaN                                 NaN  \n",
       "3            NaN       NaN                                 NaN  \n",
       "4            NaN       NaN                                 NaN  \n",
       "\n",
       "[5 rows x 111 columns]"
      ]
     },
     "execution_count": 2,
     "metadata": {},
     "output_type": "execute_result"
    }
   ],
   "source": [
    "data = pd.read_excel(r\"D:\\Florian\\Data Science\\Machine Learning\\Python ML, Machine Learnia\\Files\\dataset.xlsx\")\n",
    "data.head()"
   ]
  },
  {
   "cell_type": "code",
   "execution_count": 3,
   "id": "cbc23180",
   "metadata": {},
   "outputs": [],
   "source": [
    "df = data.copy()"
   ]
  },
  {
   "cell_type": "markdown",
   "id": "8231a16c",
   "metadata": {},
   "source": [
    "#### Création des sous ensembles"
   ]
  },
  {
   "cell_type": "code",
   "execution_count": 4,
   "id": "94ae2121",
   "metadata": {},
   "outputs": [
    {
     "data": {
      "text/plain": [
       "Patient ID                                               0.000000\n",
       "Patient age quantile                                     0.000000\n",
       "SARS-Cov-2 exam result                                   0.000000\n",
       "Patient addmited to regular ward (1=yes, 0=no)           0.000000\n",
       "Patient addmited to semi-intensive unit (1=yes, 0=no)    0.000000\n",
       "                                                           ...   \n",
       "HCO3 (arterial blood gas analysis)                       0.995216\n",
       "pO2 (arterial blood gas analysis)                        0.995216\n",
       "Arteiral Fio2                                            0.996456\n",
       "Phosphor                                                 0.996456\n",
       "ctO2 (arterial blood gas analysis)                       0.995216\n",
       "Length: 111, dtype: float64"
      ]
     },
     "execution_count": 4,
     "metadata": {},
     "output_type": "execute_result"
    }
   ],
   "source": [
    "missing_rate = df.isna().sum() / df.shape[0]\n",
    "missing_rate"
   ]
  },
  {
   "cell_type": "code",
   "execution_count": 5,
   "id": "598c37f0",
   "metadata": {},
   "outputs": [],
   "source": [
    "blood_columns = list(df.columns[(missing_rate < 0.9) & (missing_rate > 0.88)])\n",
    "viral_columns = list(df.columns[(missing_rate < 0.80) & (missing_rate > 0.75)])"
   ]
  },
  {
   "cell_type": "code",
   "execution_count": 6,
   "id": "8467e79c",
   "metadata": {},
   "outputs": [],
   "source": [
    "key_columns = ['Patient age quantile', 'SARS-Cov-2 exam result']"
   ]
  },
  {
   "cell_type": "code",
   "execution_count": 7,
   "id": "ea6f783a",
   "metadata": {},
   "outputs": [
    {
     "data": {
      "text/html": [
       "<div>\n",
       "<style scoped>\n",
       "    .dataframe tbody tr th:only-of-type {\n",
       "        vertical-align: middle;\n",
       "    }\n",
       "\n",
       "    .dataframe tbody tr th {\n",
       "        vertical-align: top;\n",
       "    }\n",
       "\n",
       "    .dataframe thead th {\n",
       "        text-align: right;\n",
       "    }\n",
       "</style>\n",
       "<table border=\"1\" class=\"dataframe\">\n",
       "  <thead>\n",
       "    <tr style=\"text-align: right;\">\n",
       "      <th></th>\n",
       "      <th>Patient age quantile</th>\n",
       "      <th>SARS-Cov-2 exam result</th>\n",
       "      <th>Hematocrit</th>\n",
       "      <th>Hemoglobin</th>\n",
       "      <th>Platelets</th>\n",
       "      <th>Mean platelet volume</th>\n",
       "      <th>Red blood Cells</th>\n",
       "      <th>Lymphocytes</th>\n",
       "      <th>Mean corpuscular hemoglobin concentration (MCHC)</th>\n",
       "      <th>Leukocytes</th>\n",
       "      <th>...</th>\n",
       "      <th>Parainfluenza 3</th>\n",
       "      <th>Chlamydophila pneumoniae</th>\n",
       "      <th>Adenovirus</th>\n",
       "      <th>Parainfluenza 4</th>\n",
       "      <th>Coronavirus229E</th>\n",
       "      <th>CoronavirusOC43</th>\n",
       "      <th>Inf A H1N1 2009</th>\n",
       "      <th>Bordetella pertussis</th>\n",
       "      <th>Metapneumovirus</th>\n",
       "      <th>Parainfluenza 2</th>\n",
       "    </tr>\n",
       "  </thead>\n",
       "  <tbody>\n",
       "    <tr>\n",
       "      <th>0</th>\n",
       "      <td>13</td>\n",
       "      <td>negative</td>\n",
       "      <td>NaN</td>\n",
       "      <td>NaN</td>\n",
       "      <td>NaN</td>\n",
       "      <td>NaN</td>\n",
       "      <td>NaN</td>\n",
       "      <td>NaN</td>\n",
       "      <td>NaN</td>\n",
       "      <td>NaN</td>\n",
       "      <td>...</td>\n",
       "      <td>NaN</td>\n",
       "      <td>NaN</td>\n",
       "      <td>NaN</td>\n",
       "      <td>NaN</td>\n",
       "      <td>NaN</td>\n",
       "      <td>NaN</td>\n",
       "      <td>NaN</td>\n",
       "      <td>NaN</td>\n",
       "      <td>NaN</td>\n",
       "      <td>NaN</td>\n",
       "    </tr>\n",
       "    <tr>\n",
       "      <th>1</th>\n",
       "      <td>17</td>\n",
       "      <td>negative</td>\n",
       "      <td>0.236515</td>\n",
       "      <td>-0.02234</td>\n",
       "      <td>-0.517413</td>\n",
       "      <td>0.010677</td>\n",
       "      <td>0.102004</td>\n",
       "      <td>0.318366</td>\n",
       "      <td>-0.95079</td>\n",
       "      <td>-0.09461</td>\n",
       "      <td>...</td>\n",
       "      <td>not_detected</td>\n",
       "      <td>not_detected</td>\n",
       "      <td>not_detected</td>\n",
       "      <td>not_detected</td>\n",
       "      <td>not_detected</td>\n",
       "      <td>not_detected</td>\n",
       "      <td>not_detected</td>\n",
       "      <td>not_detected</td>\n",
       "      <td>not_detected</td>\n",
       "      <td>not_detected</td>\n",
       "    </tr>\n",
       "    <tr>\n",
       "      <th>2</th>\n",
       "      <td>8</td>\n",
       "      <td>negative</td>\n",
       "      <td>NaN</td>\n",
       "      <td>NaN</td>\n",
       "      <td>NaN</td>\n",
       "      <td>NaN</td>\n",
       "      <td>NaN</td>\n",
       "      <td>NaN</td>\n",
       "      <td>NaN</td>\n",
       "      <td>NaN</td>\n",
       "      <td>...</td>\n",
       "      <td>NaN</td>\n",
       "      <td>NaN</td>\n",
       "      <td>NaN</td>\n",
       "      <td>NaN</td>\n",
       "      <td>NaN</td>\n",
       "      <td>NaN</td>\n",
       "      <td>NaN</td>\n",
       "      <td>NaN</td>\n",
       "      <td>NaN</td>\n",
       "      <td>NaN</td>\n",
       "    </tr>\n",
       "    <tr>\n",
       "      <th>3</th>\n",
       "      <td>5</td>\n",
       "      <td>negative</td>\n",
       "      <td>NaN</td>\n",
       "      <td>NaN</td>\n",
       "      <td>NaN</td>\n",
       "      <td>NaN</td>\n",
       "      <td>NaN</td>\n",
       "      <td>NaN</td>\n",
       "      <td>NaN</td>\n",
       "      <td>NaN</td>\n",
       "      <td>...</td>\n",
       "      <td>NaN</td>\n",
       "      <td>NaN</td>\n",
       "      <td>NaN</td>\n",
       "      <td>NaN</td>\n",
       "      <td>NaN</td>\n",
       "      <td>NaN</td>\n",
       "      <td>NaN</td>\n",
       "      <td>NaN</td>\n",
       "      <td>NaN</td>\n",
       "      <td>NaN</td>\n",
       "    </tr>\n",
       "    <tr>\n",
       "      <th>4</th>\n",
       "      <td>15</td>\n",
       "      <td>negative</td>\n",
       "      <td>NaN</td>\n",
       "      <td>NaN</td>\n",
       "      <td>NaN</td>\n",
       "      <td>NaN</td>\n",
       "      <td>NaN</td>\n",
       "      <td>NaN</td>\n",
       "      <td>NaN</td>\n",
       "      <td>NaN</td>\n",
       "      <td>...</td>\n",
       "      <td>not_detected</td>\n",
       "      <td>not_detected</td>\n",
       "      <td>not_detected</td>\n",
       "      <td>not_detected</td>\n",
       "      <td>not_detected</td>\n",
       "      <td>not_detected</td>\n",
       "      <td>not_detected</td>\n",
       "      <td>not_detected</td>\n",
       "      <td>not_detected</td>\n",
       "      <td>not_detected</td>\n",
       "    </tr>\n",
       "  </tbody>\n",
       "</table>\n",
       "<p>5 rows × 33 columns</p>\n",
       "</div>"
      ],
      "text/plain": [
       "   Patient age quantile SARS-Cov-2 exam result  Hematocrit  Hemoglobin  \\\n",
       "0                    13               negative         NaN         NaN   \n",
       "1                    17               negative    0.236515    -0.02234   \n",
       "2                     8               negative         NaN         NaN   \n",
       "3                     5               negative         NaN         NaN   \n",
       "4                    15               negative         NaN         NaN   \n",
       "\n",
       "   Platelets  Mean platelet volume   Red blood Cells  Lymphocytes  \\\n",
       "0        NaN                    NaN              NaN          NaN   \n",
       "1  -0.517413               0.010677         0.102004     0.318366   \n",
       "2        NaN                    NaN              NaN          NaN   \n",
       "3        NaN                    NaN              NaN          NaN   \n",
       "4        NaN                    NaN              NaN          NaN   \n",
       "\n",
       "   Mean corpuscular hemoglobin concentration (MCHC)  Leukocytes  ...  \\\n",
       "0                                               NaN         NaN  ...   \n",
       "1                                          -0.95079    -0.09461  ...   \n",
       "2                                               NaN         NaN  ...   \n",
       "3                                               NaN         NaN  ...   \n",
       "4                                               NaN         NaN  ...   \n",
       "\n",
       "   Parainfluenza 3  Chlamydophila pneumoniae    Adenovirus  Parainfluenza 4  \\\n",
       "0              NaN                       NaN           NaN              NaN   \n",
       "1     not_detected              not_detected  not_detected     not_detected   \n",
       "2              NaN                       NaN           NaN              NaN   \n",
       "3              NaN                       NaN           NaN              NaN   \n",
       "4     not_detected              not_detected  not_detected     not_detected   \n",
       "\n",
       "   Coronavirus229E  CoronavirusOC43 Inf A H1N1 2009 Bordetella pertussis  \\\n",
       "0              NaN              NaN             NaN                  NaN   \n",
       "1     not_detected     not_detected    not_detected         not_detected   \n",
       "2              NaN              NaN             NaN                  NaN   \n",
       "3              NaN              NaN             NaN                  NaN   \n",
       "4     not_detected     not_detected    not_detected         not_detected   \n",
       "\n",
       "  Metapneumovirus Parainfluenza 2  \n",
       "0             NaN             NaN  \n",
       "1    not_detected    not_detected  \n",
       "2             NaN             NaN  \n",
       "3             NaN             NaN  \n",
       "4    not_detected    not_detected  \n",
       "\n",
       "[5 rows x 33 columns]"
      ]
     },
     "execution_count": 7,
     "metadata": {},
     "output_type": "execute_result"
    }
   ],
   "source": [
    "df = df[key_columns + blood_columns + viral_columns]\n",
    "df.head()"
   ]
  },
  {
   "cell_type": "markdown",
   "id": "bf31850e",
   "metadata": {},
   "source": [
    "### TrainTest / Nettoyage / Encodage"
   ]
  },
  {
   "cell_type": "code",
   "execution_count": 8,
   "id": "74e85bf2",
   "metadata": {},
   "outputs": [],
   "source": [
    "from sklearn.model_selection import train_test_split"
   ]
  },
  {
   "cell_type": "code",
   "execution_count": 9,
   "id": "425650f6",
   "metadata": {},
   "outputs": [],
   "source": [
    "trainset, testset = train_test_split(df, test_size = 0.2, random_state = 0)"
   ]
  },
  {
   "cell_type": "code",
   "execution_count": 10,
   "id": "c946e5e5",
   "metadata": {},
   "outputs": [
    {
     "data": {
      "text/plain": [
       "negative    4068\n",
       "positive     447\n",
       "Name: SARS-Cov-2 exam result, dtype: int64"
      ]
     },
     "execution_count": 10,
     "metadata": {},
     "output_type": "execute_result"
    }
   ],
   "source": [
    "trainset['SARS-Cov-2 exam result'].value_counts()"
   ]
  },
  {
   "cell_type": "code",
   "execution_count": 11,
   "id": "bf8a39d7",
   "metadata": {},
   "outputs": [
    {
     "data": {
      "text/plain": [
       "negative    1018\n",
       "positive     111\n",
       "Name: SARS-Cov-2 exam result, dtype: int64"
      ]
     },
     "execution_count": 11,
     "metadata": {},
     "output_type": "execute_result"
    }
   ],
   "source": [
    "testset['SARS-Cov-2 exam result'].value_counts()"
   ]
  },
  {
   "cell_type": "markdown",
   "id": "1e50a9c7",
   "metadata": {},
   "source": [
    "#### Encodage"
   ]
  },
  {
   "cell_type": "markdown",
   "id": "f9ebf372",
   "metadata": {},
   "source": [
    "Variables qualitatives"
   ]
  },
  {
   "cell_type": "code",
   "execution_count": 12,
   "id": "8dcab9b4",
   "metadata": {},
   "outputs": [
    {
     "name": "stdout",
     "output_type": "stream",
     "text": [
      "SARS-Cov-2 exam result--------['negative' 'positive']\n",
      "Respiratory Syncytial Virus---[nan 'not_detected' 'detected']\n",
      "Influenza A-------------------[nan 'not_detected' 'detected']\n",
      "Influenza B-------------------[nan 'not_detected' 'detected']\n",
      "Parainfluenza 1---------------[nan 'not_detected' 'detected']\n",
      "CoronavirusNL63---------------[nan 'not_detected' 'detected']\n",
      "Rhinovirus/Enterovirus--------[nan 'detected' 'not_detected']\n",
      "Coronavirus HKU1--------------[nan 'not_detected' 'detected']\n",
      "Parainfluenza 3---------------[nan 'not_detected' 'detected']\n",
      "Chlamydophila pneumoniae------[nan 'not_detected' 'detected']\n",
      "Adenovirus--------------------[nan 'not_detected' 'detected']\n",
      "Parainfluenza 4---------------[nan 'not_detected' 'detected']\n",
      "Coronavirus229E---------------[nan 'not_detected' 'detected']\n",
      "CoronavirusOC43---------------[nan 'not_detected' 'detected']\n",
      "Inf A H1N1 2009---------------[nan 'not_detected' 'detected']\n",
      "Bordetella pertussis----------[nan 'not_detected' 'detected']\n",
      "Metapneumovirus---------------[nan 'not_detected' 'detected']\n",
      "Parainfluenza 2---------------[nan 'not_detected']\n"
     ]
    }
   ],
   "source": [
    "for col in df.select_dtypes('object'):\n",
    "    print(f'{col :-<30}{df[col].unique()}')"
   ]
  },
  {
   "cell_type": "code",
   "execution_count": 13,
   "id": "6ca623f1",
   "metadata": {},
   "outputs": [],
   "source": [
    "# pour encoder les colonnes du dataframe\n",
    "\n",
    "def encodage(df):\n",
    "    code = {'positive' : 1,\n",
    "            'negative' : 0,\n",
    "            'detected' : 1,\n",
    "            'not_detected' : 0}\n",
    "    \n",
    "    for col in df.select_dtypes('object'):\n",
    "        df.loc[:, col] = df[col].map(code)\n",
    "    \n",
    "    return df"
   ]
  },
  {
   "cell_type": "code",
   "execution_count": 14,
   "id": "f128ec24",
   "metadata": {},
   "outputs": [],
   "source": [
    "def feature_engineering(df):\n",
    "    df['est malade'] = df[viral_columns].sum(axis = 1) >= 1\n",
    "    df = df.drop(viral_columns, axis = 1)\n",
    "    return (df)"
   ]
  },
  {
   "cell_type": "code",
   "execution_count": 15,
   "id": "9f90948e",
   "metadata": {},
   "outputs": [],
   "source": [
    "# pour supprimer les valeurs manquantes\n",
    "\n",
    "def imputation(df):\n",
    "    # df['is na'] = (df['Parainfluenza 3'].isna()) | (df['Leukocytes'].isna())\n",
    "    # df = df.fillna(-999) # remplacer les données manquantes par une valeur extreme\n",
    "    df = df.dropna(axis = 0)\n",
    "    return df"
   ]
  },
  {
   "cell_type": "code",
   "execution_count": 16,
   "id": "69edcf38",
   "metadata": {},
   "outputs": [],
   "source": [
    "def preprocessing(df):\n",
    "    \n",
    "    df = encodage(df)\n",
    "    df = feature_engineering(df)\n",
    "    df = imputation(df)\n",
    "\n",
    "    X = df.drop('SARS-Cov-2 exam result', axis = 1)\n",
    "    y = df['SARS-Cov-2 exam result']\n",
    "    \n",
    "    print(y.value_counts())\n",
    "    \n",
    "    return X, y"
   ]
  },
  {
   "cell_type": "code",
   "execution_count": 17,
   "id": "8488cb9f",
   "metadata": {},
   "outputs": [
    {
     "name": "stdout",
     "output_type": "stream",
     "text": [
      "0    422\n",
      "1     65\n",
      "Name: SARS-Cov-2 exam result, dtype: int64\n"
     ]
    }
   ],
   "source": [
    "X_train, y_train = preprocessing(trainset)"
   ]
  },
  {
   "cell_type": "code",
   "execution_count": 18,
   "id": "69cafb3e",
   "metadata": {},
   "outputs": [
    {
     "name": "stdout",
     "output_type": "stream",
     "text": [
      "0    95\n",
      "1    16\n",
      "Name: SARS-Cov-2 exam result, dtype: int64\n"
     ]
    }
   ],
   "source": [
    "X_test, y_test = preprocessing(testset)"
   ]
  },
  {
   "cell_type": "markdown",
   "id": "966a96f6",
   "metadata": {},
   "source": [
    "# Procédure d'évaluation"
   ]
  },
  {
   "cell_type": "code",
   "execution_count": 19,
   "id": "d63393e4",
   "metadata": {},
   "outputs": [],
   "source": [
    "from sklearn.metrics import f1_score, confusion_matrix, classification_report\n",
    "from sklearn.model_selection import learning_curve\n",
    "\n",
    "# confusion matrix pour voir les rapports entre faux positifs et faux négatifs"
   ]
  },
  {
   "cell_type": "code",
   "execution_count": 20,
   "id": "5f678eb0",
   "metadata": {},
   "outputs": [],
   "source": [
    "def evaluation(model):\n",
    "    model.fit(X_train, y_train)\n",
    "    ypred = model.predict(X_test)\n",
    "    \n",
    "    print(confusion_matrix(y_test, ypred))\n",
    "    print(classification_report(y_test, ypred))\n",
    "    \n",
    "    N, train_score, val_score = learning_curve(model, X_train, y_train, \n",
    "                                               cv = 4, scoring = 'f1',\n",
    "                                               train_sizes = np.linspace(0.1, 1, 10))\n",
    "    \n",
    "    plt.figure(figsize=(12, 8))\n",
    "    plt.plot(N, train_score.mean(axis = 1), label = 'train score')\n",
    "    plt.plot(N, val_score.mean(axis = 1), label = 'val score')\n",
    "    plt.legend()"
   ]
  },
  {
   "cell_type": "markdown",
   "id": "151db765",
   "metadata": {},
   "source": [
    "# Modelisation"
   ]
  },
  {
   "cell_type": "code",
   "execution_count": 21,
   "id": "5df91e22",
   "metadata": {},
   "outputs": [],
   "source": [
    "from sklearn.tree import DecisionTreeClassifier\n",
    "from sklearn.ensemble import RandomForestClassifier, AdaBoostClassifier\n",
    "from sklearn.svm import SVC\n",
    "from sklearn.neighbors import KNeighborsClassifier\n",
    "from sklearn.pipeline import make_pipeline \n",
    "from sklearn.feature_selection import SelectKBest, f_classif\n",
    "from sklearn.preprocessing import PolynomialFeatures, StandardScaler\n",
    "from sklearn.decomposition import PCA"
   ]
  },
  {
   "cell_type": "raw",
   "id": "5b25e00e",
   "metadata": {},
   "source": [
    "Il faut créer une liste de plusieurs modèles de machine learning"
   ]
  },
  {
   "cell_type": "code",
   "execution_count": 22,
   "id": "6f7f164f",
   "metadata": {},
   "outputs": [],
   "source": [
    "# utiliser un test ANOVA pour sélectionner les 10 meilleures variables ayant les liens les plus forts\n",
    "preprocessor = make_pipeline(PolynomialFeatures(2, include_bias = False), SelectKBest(f_classif, k = 10))"
   ]
  },
  {
   "cell_type": "code",
   "execution_count": 23,
   "id": "61a253d0",
   "metadata": {},
   "outputs": [],
   "source": [
    "RandomForest = make_pipeline(preprocessor, RandomForestClassifier(random_state = 0))\n",
    "AdaBoost = make_pipeline(preprocessor, AdaBoostClassifier(random_state = 0))\n",
    "SVM = make_pipeline(preprocessor, StandardScaler(), SVC(random_state = 0))\n",
    "KNN = make_pipeline(preprocessor, StandardScaler(), KNeighborsClassifier())"
   ]
  },
  {
   "cell_type": "code",
   "execution_count": 24,
   "id": "20d1b69b",
   "metadata": {},
   "outputs": [],
   "source": [
    "list_of_models = {'RandomForest' : RandomForest, \n",
    "                  'AdaBoost' : AdaBoost, \n",
    "                  'SVM' : SVM, \n",
    "                  'KNN' : KNN\n",
    "                 }"
   ]
  },
  {
   "cell_type": "code",
   "execution_count": 25,
   "id": "ce1123cb",
   "metadata": {},
   "outputs": [
    {
     "name": "stdout",
     "output_type": "stream",
     "text": [
      "RandomForest\n",
      "[[91  4]\n",
      " [11  5]]\n",
      "              precision    recall  f1-score   support\n",
      "\n",
      "           0       0.89      0.96      0.92        95\n",
      "           1       0.56      0.31      0.40        16\n",
      "\n",
      "    accuracy                           0.86       111\n",
      "   macro avg       0.72      0.64      0.66       111\n",
      "weighted avg       0.84      0.86      0.85       111\n",
      "\n",
      "AdaBoost\n",
      "[[91  4]\n",
      " [ 9  7]]\n",
      "              precision    recall  f1-score   support\n",
      "\n",
      "           0       0.91      0.96      0.93        95\n",
      "           1       0.64      0.44      0.52        16\n",
      "\n",
      "    accuracy                           0.88       111\n",
      "   macro avg       0.77      0.70      0.73       111\n",
      "weighted avg       0.87      0.88      0.87       111\n",
      "\n",
      "SVM\n",
      "[[92  3]\n",
      " [10  6]]\n",
      "              precision    recall  f1-score   support\n",
      "\n",
      "           0       0.90      0.97      0.93        95\n",
      "           1       0.67      0.38      0.48        16\n",
      "\n",
      "    accuracy                           0.88       111\n",
      "   macro avg       0.78      0.67      0.71       111\n",
      "weighted avg       0.87      0.88      0.87       111\n",
      "\n",
      "KNN\n",
      "[[88  7]\n",
      " [ 8  8]]\n",
      "              precision    recall  f1-score   support\n",
      "\n",
      "           0       0.92      0.93      0.92        95\n",
      "           1       0.53      0.50      0.52        16\n",
      "\n",
      "    accuracy                           0.86       111\n",
      "   macro avg       0.72      0.71      0.72       111\n",
      "weighted avg       0.86      0.86      0.86       111\n",
      "\n"
     ]
    },
    {
     "data": {
      "image/png": "[encoded data removed]",
      "text/plain": [
       "<Figure size 1200x800 with 1 Axes>"
      ]
     },
     "metadata": {},
     "output_type": "display_data"
    },
    {
     "data": {
      "image/png": "[encoded data removed]",
      "text/plain": [
       "<Figure size 1200x800 with 1 Axes>"
      ]
     },
     "metadata": {},
     "output_type": "display_data"
    },
    {
     "data": {
      "image/png": "[encoded data removed]",
      "text/plain": [
       "<Figure size 1200x800 with 1 Axes>"
      ]
     },
     "metadata": {},
     "output_type": "display_data"
    },
    {
     "data": {
      "image/png": "[encoded data removed]",
      "text/plain": [
       "<Figure size 1200x800 with 1 Axes>"
      ]
     },
     "metadata": {},
     "output_type": "display_data"
    }
   ],
   "source": [
    "for model_name, model in list_of_models.items(): \n",
    "    print(model_name)\n",
    "    evaluation(model)"
   ]
  },
  {
   "cell_type": "code",
   "execution_count": null,
   "id": "81b3f9b5",
   "metadata": {},
   "outputs": [],
   "source": []
  },
  {
   "cell_type": "markdown",
   "id": "37eb158f",
   "metadata": {},
   "source": [
    "## Optimisation"
   ]
  },
  {
   "cell_type": "code",
   "execution_count": 33,
   "id": "ba706643",
   "metadata": {},
   "outputs": [],
   "source": [
    "from sklearn.model_selection import GridSearchCV, RandomizedSearchCV"
   ]
  },
  {
   "cell_type": "code",
   "execution_count": 27,
   "id": "acd61e26",
   "metadata": {},
   "outputs": [
    {
     "data": {
      "text/html": [
       "<style>#sk-container-id-1 {color: black;background-color: white;}#sk-container-id-1 pre{padding: 0;}#sk-container-id-1 div.sk-toggleable {background-color: white;}#sk-container-id-1 label.sk-toggleable__label {cursor: pointer;display: block;width: 100%;margin-bottom: 0;padding: 0.3em;box-sizing: border-box;text-align: center;}#sk-container-id-1 label.sk-toggleable__label-arrow:before {content: \"▸\";float: left;margin-right: 0.25em;color: #696969;}#sk-container-id-1 label.sk-toggleable__label-arrow:hover:before {color: black;}#sk-container-id-1 div.sk-estimator:hover label.sk-toggleable__label-arrow:before {color: black;}#sk-container-id-1 div.sk-toggleable__content {max-height: 0;max-width: 0;overflow: hidden;text-align: left;background-color: #f0f8ff;}#sk-container-id-1 div.sk-toggleable__content pre {margin: 0.2em;color: black;border-radius: 0.25em;background-color: #f0f8ff;}#sk-container-id-1 input.sk-toggleable__control:checked~div.sk-toggleable__content {max-height: 200px;max-width: 100%;overflow: auto;}#sk-container-id-1 input.sk-toggleable__control:checked~label.sk-toggleable__label-arrow:before {content: \"▾\";}#sk-container-id-1 div.sk-estimator input.sk-toggleable__control:checked~label.sk-toggleable__label {background-color: #d4ebff;}#sk-container-id-1 div.sk-label input.sk-toggleable__control:checked~label.sk-toggleable__label {background-color: #d4ebff;}#sk-container-id-1 input.sk-hidden--visually {border: 0;clip: rect(1px 1px 1px 1px);clip: rect(1px, 1px, 1px, 1px);height: 1px;margin: -1px;overflow: hidden;padding: 0;position: absolute;width: 1px;}#sk-container-id-1 div.sk-estimator {font-family: monospace;background-color: #f0f8ff;border: 1px dotted black;border-radius: 0.25em;box-sizing: border-box;margin-bottom: 0.5em;}#sk-container-id-1 div.sk-estimator:hover {background-color: #d4ebff;}#sk-container-id-1 div.sk-parallel-item::after {content: \"\";width: 100%;border-bottom: 1px solid gray;flex-grow: 1;}#sk-container-id-1 div.sk-label:hover label.sk-toggleable__label {background-color: #d4ebff;}#sk-container-id-1 div.sk-serial::before {content: \"\";position: absolute;border-left: 1px solid gray;box-sizing: border-box;top: 0;bottom: 0;left: 50%;z-index: 0;}#sk-container-id-1 div.sk-serial {display: flex;flex-direction: column;align-items: center;background-color: white;padding-right: 0.2em;padding-left: 0.2em;position: relative;}#sk-container-id-1 div.sk-item {position: relative;z-index: 1;}#sk-container-id-1 div.sk-parallel {display: flex;align-items: stretch;justify-content: center;background-color: white;position: relative;}#sk-container-id-1 div.sk-item::before, #sk-container-id-1 div.sk-parallel-item::before {content: \"\";position: absolute;border-left: 1px solid gray;box-sizing: border-box;top: 0;bottom: 0;left: 50%;z-index: -1;}#sk-container-id-1 div.sk-parallel-item {display: flex;flex-direction: column;z-index: 1;position: relative;background-color: white;}#sk-container-id-1 div.sk-parallel-item:first-child::after {align-self: flex-end;width: 50%;}#sk-container-id-1 div.sk-parallel-item:last-child::after {align-self: flex-start;width: 50%;}#sk-container-id-1 div.sk-parallel-item:only-child::after {width: 0;}#sk-container-id-1 div.sk-dashed-wrapped {border: 1px dashed gray;margin: 0 0.4em 0.5em 0.4em;box-sizing: border-box;padding-bottom: 0.4em;background-color: white;}#sk-container-id-1 div.sk-label label {font-family: monospace;font-weight: bold;display: inline-block;line-height: 1.2em;}#sk-container-id-1 div.sk-label-container {text-align: center;}#sk-container-id-1 div.sk-container {/* jupyter's `normalize.less` sets `[hidden] { display: none; }` but bootstrap.min.css set `[hidden] { display: none !important; }` so we also need the `!important` here to be able to override the default hidden behavior on the sphinx rendered scikit-learn.org. See: https://github.com/scikit-learn/scikit-learn/issues/21755 */display: inline-block !important;position: relative;}#sk-container-id-1 div.sk-text-repr-fallback {display: none;}</style><div id=\"sk-container-id-1\" class=\"sk-top-container\"><div class=\"sk-text-repr-fallback\"><pre>Pipeline(steps=[(&#x27;pipeline&#x27;,\n",
       "                 Pipeline(steps=[(&#x27;polynomialfeatures&#x27;,\n",
       "                                  PolynomialFeatures(include_bias=False)),\n",
       "                                 (&#x27;selectkbest&#x27;, SelectKBest())])),\n",
       "                (&#x27;standardscaler&#x27;, StandardScaler()),\n",
       "                (&#x27;svc&#x27;, SVC(random_state=0))])</pre><b>In a Jupyter environment, please rerun this cell to show the HTML representation or trust the notebook. <br />On GitHub, the HTML representation is unable to render, please try loading this page with nbviewer.org.</b></div><div class=\"sk-container\" hidden><div class=\"sk-item sk-dashed-wrapped\"><div class=\"sk-label-container\"><div class=\"sk-label sk-toggleable\"><input class=\"sk-toggleable__control sk-hidden--visually\" id=\"sk-estimator-id-1\" type=\"checkbox\" ><label for=\"sk-estimator-id-1\" class=\"sk-toggleable__label sk-toggleable__label-arrow\">Pipeline</label><div class=\"sk-toggleable__content\"><pre>Pipeline(steps=[(&#x27;pipeline&#x27;,\n",
       "                 Pipeline(steps=[(&#x27;polynomialfeatures&#x27;,\n",
       "                                  PolynomialFeatures(include_bias=False)),\n",
       "                                 (&#x27;selectkbest&#x27;, SelectKBest())])),\n",
       "                (&#x27;standardscaler&#x27;, StandardScaler()),\n",
       "                (&#x27;svc&#x27;, SVC(random_state=0))])</pre></div></div></div><div class=\"sk-serial\"><div class=\"sk-item\"><div class=\"sk-label-container\"><div class=\"sk-label sk-toggleable\"><input class=\"sk-toggleable__control sk-hidden--visually\" id=\"sk-estimator-id-2\" type=\"checkbox\" ><label for=\"sk-estimator-id-2\" class=\"sk-toggleable__label sk-toggleable__label-arrow\">pipeline: Pipeline</label><div class=\"sk-toggleable__content\"><pre>Pipeline(steps=[(&#x27;polynomialfeatures&#x27;, PolynomialFeatures(include_bias=False)),\n",
       "                (&#x27;selectkbest&#x27;, SelectKBest())])</pre></div></div></div><div class=\"sk-serial\"><div class=\"sk-item\"><div class=\"sk-estimator sk-toggleable\"><input class=\"sk-toggleable__control sk-hidden--visually\" id=\"sk-estimator-id-3\" type=\"checkbox\" ><label for=\"sk-estimator-id-3\" class=\"sk-toggleable__label sk-toggleable__label-arrow\">PolynomialFeatures</label><div class=\"sk-toggleable__content\"><pre>PolynomialFeatures(include_bias=False)</pre></div></div></div><div class=\"sk-item\"><div class=\"sk-estimator sk-toggleable\"><input class=\"sk-toggleable__control sk-hidden--visually\" id=\"sk-estimator-id-4\" type=\"checkbox\" ><label for=\"sk-estimator-id-4\" class=\"sk-toggleable__label sk-toggleable__label-arrow\">SelectKBest</label><div class=\"sk-toggleable__content\"><pre>SelectKBest()</pre></div></div></div></div></div><div class=\"sk-item\"><div class=\"sk-estimator sk-toggleable\"><input class=\"sk-toggleable__control sk-hidden--visually\" id=\"sk-estimator-id-5\" type=\"checkbox\" ><label for=\"sk-estimator-id-5\" class=\"sk-toggleable__label sk-toggleable__label-arrow\">StandardScaler</label><div class=\"sk-toggleable__content\"><pre>StandardScaler()</pre></div></div></div><div class=\"sk-item\"><div class=\"sk-estimator sk-toggleable\"><input class=\"sk-toggleable__control sk-hidden--visually\" id=\"sk-estimator-id-6\" type=\"checkbox\" ><label for=\"sk-estimator-id-6\" class=\"sk-toggleable__label sk-toggleable__label-arrow\">SVC</label><div class=\"sk-toggleable__content\"><pre>SVC(random_state=0)</pre></div></div></div></div></div></div></div>"
      ],
      "text/plain": [
       "Pipeline(steps=[('pipeline',\n",
       "                 Pipeline(steps=[('polynomialfeatures',\n",
       "                                  PolynomialFeatures(include_bias=False)),\n",
       "                                 ('selectkbest', SelectKBest())])),\n",
       "                ('standardscaler', StandardScaler()),\n",
       "                ('svc', SVC(random_state=0))])"
      ]
     },
     "execution_count": 27,
     "metadata": {},
     "output_type": "execute_result"
    }
   ],
   "source": [
    "SVM"
   ]
  },
  {
   "cell_type": "code",
   "execution_count": 36,
   "id": "e5a21cd3",
   "metadata": {},
   "outputs": [],
   "source": [
    "hyper_params = {'svc__gamma' : [1e-3, 1e-4], \n",
    "                'svc__C' : [1, 10, 100, 1000],\n",
    "                'pipeline__polynomialfeatures__degree' : [2, 3, 4],\n",
    "                'pipeline__selectkbest__k' : range(40, 60)\n",
    "               } # ces hyperparamètres ne sont que pour le modèle SVC"
   ]
  },
  {
   "cell_type": "code",
   "execution_count": 37,
   "id": "9405d92c",
   "metadata": {},
   "outputs": [
    {
     "name": "stdout",
     "output_type": "stream",
     "text": [
      "{'svc__gamma': 0.001, 'svc__C': 1000, 'pipeline__selectkbest__k': 55, 'pipeline__polynomialfeatures__degree': 3}\n",
      "              precision    recall  f1-score   support\n",
      "\n",
      "           0       0.92      0.93      0.92        95\n",
      "           1       0.53      0.50      0.52        16\n",
      "\n",
      "    accuracy                           0.86       111\n",
      "   macro avg       0.72      0.71      0.72       111\n",
      "weighted avg       0.86      0.86      0.86       111\n",
      "\n"
     ]
    }
   ],
   "source": [
    "grid = RandomizedSearchCV(SVM, hyper_params, scoring = 'recall', cv = 4, n_iter = 40)\n",
    "\n",
    "grid.fit(X_train, y_train)\n",
    "\n",
    "print(grid.best_params_) # afficher les meilleurs hyperparamètres\n",
    "\n",
    "y_pred = grid.predict(X_test)\n",
    "\n",
    "print(classification_report(y_test, y_pred))"
   ]
  },
  {
   "cell_type": "code",
   "execution_count": 38,
   "id": "403fe4c3",
   "metadata": {},
   "outputs": [
    {
     "name": "stdout",
     "output_type": "stream",
     "text": [
      "[[88  7]\n",
      " [ 8  8]]\n",
      "              precision    recall  f1-score   support\n",
      "\n",
      "           0       0.92      0.93      0.92        95\n",
      "           1       0.53      0.50      0.52        16\n",
      "\n",
      "    accuracy                           0.86       111\n",
      "   macro avg       0.72      0.71      0.72       111\n",
      "weighted avg       0.86      0.86      0.86       111\n",
      "\n"
     ]
    },
    {
     "data": {
      "image/png": "[encoded data removed]",
      "text/plain": [
       "<Figure size 1200x800 with 1 Axes>"
      ]
     },
     "metadata": {},
     "output_type": "display_data"
    }
   ],
   "source": [
    "evaluation(grid.best_estimator_)"
   ]
  },
  {
   "cell_type": "markdown",
   "id": "8c79c3b7",
   "metadata": {},
   "source": [
    "### Precision Recall Curve"
   ]
  },
  {
   "cell_type": "raw",
   "id": "cf902d12",
   "metadata": {},
   "source": [
    "Pour visualiser la future sensibilité du modèle en fonction d'un seuil de prédiction"
   ]
  },
  {
   "cell_type": "code",
   "execution_count": 39,
   "id": "f10916a9",
   "metadata": {},
   "outputs": [],
   "source": [
    "from sklearn.metrics import precision_recall_curve"
   ]
  },
  {
   "cell_type": "code",
   "execution_count": 40,
   "id": "7510e1a8",
   "metadata": {},
   "outputs": [],
   "source": [
    "precision, recall, threshold = precision_recall_curve(y_test, grid.best_estimator_.decision_function(X_test))"
   ]
  },
  {
   "cell_type": "code",
   "execution_count": 41,
   "id": "f43d6cea",
   "metadata": {},
   "outputs": [
    {
     "data": {
      "text/plain": [
       "<matplotlib.legend.Legend at 0x1a26cb9c290>"
      ]
     },
     "execution_count": 41,
     "metadata": {},
     "output_type": "execute_result"
    },
    {
     "data": {
      "image/png": "[encoded data removed]",
      "text/plain": [
       "<Figure size 640x480 with 1 Axes>"
      ]
     },
     "metadata": {},
     "output_type": "display_data"
    }
   ],
   "source": [
    "plt.plot(threshold, precision[:-1], label = 'precision')\n",
    "plt.plot(threshold, recall[:-1], label = 'recall')\n",
    "plt.legend()"
   ]
  },
  {
   "cell_type": "code",
   "execution_count": 42,
   "id": "cb378a7e",
   "metadata": {},
   "outputs": [],
   "source": [
    "def model_final(model, X, threshold = 0):\n",
    "    return (model.decision_function(X) > threshold)\n",
    "        "
   ]
  },
  {
   "cell_type": "code",
   "execution_count": 43,
   "id": "38ce0be5",
   "metadata": {},
   "outputs": [],
   "source": [
    "y_pred = model_final(grid.best_estimator_, X_test, threshold = -1)"
   ]
  },
  {
   "cell_type": "code",
   "execution_count": 45,
   "id": "a4c4ea94",
   "metadata": {},
   "outputs": [],
   "source": [
    "from sklearn.metrics import recall_score"
   ]
  },
  {
   "cell_type": "code",
   "execution_count": 44,
   "id": "6cfdbe9d",
   "metadata": {},
   "outputs": [
    {
     "data": {
      "text/plain": [
       "0.6"
      ]
     },
     "execution_count": 44,
     "metadata": {},
     "output_type": "execute_result"
    }
   ],
   "source": [
    "f1_score(y_test, y_pred)"
   ]
  },
  {
   "cell_type": "code",
   "execution_count": 46,
   "id": "9bc45f64",
   "metadata": {},
   "outputs": [
    {
     "data": {
      "text/plain": [
       "0.75"
      ]
     },
     "execution_count": 46,
     "metadata": {},
     "output_type": "execute_result"
    }
   ],
   "source": [
    "recall_score(y_test, y_pred)"
   ]
  },
  {
   "cell_type": "code",
   "execution_count": null,
   "id": "4a8f2f3e",
   "metadata": {},
   "outputs": [],
   "source": []
  }
 ],
 "metadata": {
  "kernelspec": {
   "display_name": "Python 3 (ipykernel)",
   "language": "python",
   "name": "python3"
  },
  "language_info": {
   "codemirror_mode": {
    "name": "ipython",
    "version": 3
   },
   "file_extension": ".py",
   "mimetype": "text/x-python",
   "name": "python",
   "nbconvert_exporter": "python",
   "pygments_lexer": "ipython3",
   "version": "3.11.3"
  }
 },
 "nbformat": 4,
 "nbformat_minor": 5
}
